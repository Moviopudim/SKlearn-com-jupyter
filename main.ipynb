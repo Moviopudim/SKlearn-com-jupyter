{
 "cells": [
  {
   "cell_type": "code",
   "execution_count": null,
   "metadata": {},
   "outputs": [],
   "source": [
    "from sklearn.svm import LinearSVC "
   ]
  },
  {
   "cell_type": "code",
   "execution_count": null,
   "metadata": {},
   "outputs": [],
   "source": [
    "# tem pelo longo\n",
    "# tem perna curta \n",
    "# late\n",
    "#tem bigode\n",
    "#tem rabo\n",
    "\n",
    "#Define os animais\n",
    "porco1 = [1, 1, 0, 0, 1]\n",
    "porco2 = [0, 1, 0, 0, 0]\n",
    "porco3 = [1, 0, 0, 1, 1]\n",
    "\n",
    "cachorro1 = [1, 0, 1, 0, 1]\n",
    "cachorro2 = [1, 1, 1, 0, 1]\n",
    "cachorro3 = [0, 0, 1, 0, 1]\n",
    "\n",
    "gato1 = [1, 1, 0, 1, 1]\n",
    "gato2 = [0, 0, 0, 1, 1]\n",
    "gato3 = [1, 0, 0, 1, 1]\n",
    "\n",
    "# 1 => porco, 2 => gato, 0 => cachorro\n",
    "dados = [porco1, porco2, porco3, gato1, gato2, gato3, cachorro1, cachorro2, cachorro3]\n",
    "classes = [1, 1, 1, 2, 2, 2, 0, 0, 0]\n",
    "\n",
    "model = LinearSVC()\n",
    "model.fit(dados, classes)"
   ]
  },
  {
   "cell_type": "code",
   "execution_count": 33,
   "metadata": {},
   "outputs": [
    {
     "data": {
      "text/plain": [
       "array([1, 2, 2, 0])"
      ]
     },
     "execution_count": 33,
     "metadata": {},
     "output_type": "execute_result"
    }
   ],
   "source": [
    "animal_misterioso1 = [0, 1, 0, 0, 1]\n",
    "animal_misterioso2 = [1, 0, 0, 1, 1]\n",
    "animal_misterioso3 = [0, 1, 0, 1, 1]\n",
    "animal_misterioso4 = [1, 0, 1, 0, 1]\n",
    "\n",
    "testes = [animal_misterioso1, animal_misterioso2, animal_misterioso3, animal_misterioso4]\n",
    "previsões = model.predict(testes)\n",
    "resultados = [1, 2, 2, 0]\n",
    "comparação = previsões == resultados\n",
    "\n",
    "previsões"
   ]
  },
  {
   "cell_type": "code",
   "execution_count": 39,
   "metadata": {},
   "outputs": [
    {
     "name": "stdout",
     "output_type": "stream",
     "text": [
      "a taxa de acerto é: 100 %\n"
     ]
    }
   ],
   "source": [
    "from sklearn.metrics import accuracy_score \n",
    "\n",
    "taxa_de_acerto = (accuracy_score(resultados, previsões)) * 100\n",
    "\n",
    "print(f'a taxa de acerto é:', int(taxa_de_acerto), '%')"
   ]
  },
  {
   "cell_type": "code",
   "execution_count": null,
   "metadata": {},
   "outputs": [],
   "source": []
  }
 ],
 "metadata": {
  "kernelspec": {
   "display_name": "Python 3.10.7 64-bit",
   "language": "python",
   "name": "python3"
  },
  "language_info": {
   "codemirror_mode": {
    "name": "ipython",
    "version": 3
   },
   "file_extension": ".py",
   "mimetype": "text/x-python",
   "name": "python",
   "nbconvert_exporter": "python",
   "pygments_lexer": "ipython3",
   "version": "3.10.7"
  },
  "orig_nbformat": 4,
  "vscode": {
   "interpreter": {
    "hash": "e7370f93d1d0cde622a1f8e1c04877d8463912d04d973331ad4851f04de6915a"
   }
  }
 },
 "nbformat": 4,
 "nbformat_minor": 2
}
